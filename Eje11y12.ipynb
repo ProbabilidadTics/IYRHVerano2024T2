{
 "cells": [
  {
   "cell_type": "markdown",
   "metadata": {},
   "source": [
    "### 11. Parque vehicular. La Ciudad de México tiene placas de automóviles con tres números seguidos por tres letras, es decir, son placas del tipo 999-AAA. Sin embargo, no pueden empezar con 0 (cero) ni se utilizan las letras I, O, Q y Ñ."
   ]
  },
  {
   "cell_type": "markdown",
   "metadata": {},
   "source": [
    "#### a) ¿Cuántas placas diferentes son posibles?"
   ]
  },
  {
   "cell_type": "markdown",
   "metadata": {},
   "source": [
    "Para calcular el número de placas diferentes posibles, debemos tener en cuenta las siguientes restricciones:\n",
    "- Las placas tienen 3 números seguidos de 3 letras\n",
    "- No pueden empezar con 0 (cero)\n",
    "- No se utilizan las letras I, O, Q y Ñ\n",
    "\n",
    "Se realizo el apartado donde las placas tienen tres numeros seguidos de tres letras el cual consta con 9 dijitos el primer espacio ya que el enunciado dice que en el primer espacio (digito) no acepta el 0.\n",
    "- En el estacio dos y tres ya acepta todos los dijitos mencionados, desde el **0** hasta el **9** y eso hace referente al 10 porque del **0** al **9** existen 10 numeros.\n",
    "- Y pasamos a realizar la multiplicacion para tener los posibles numeros diferentes.\n",
    "$$\n",
    "\\begin{align}\n",
    "    Números: & \\quad 9 \\times 10 \\times 10 = 900 \\\\\n",
    "\\end{align}\n",
    "$$\n",
    "\n",
    "Pasamos a realizar con el de letras, solo que aqui no incluimos las letras indicadas entonces como el abecedario tiene **27** letras, a esos **27** le quitamos esas **4** letras y por eso mismo nos da **23** para poder realizar nuestras operaciones en los tres lugares donde vamos a pocisionar las letras.\n",
    "$$\n",
    "\\begin{align}\n",
    "    Letras:& \\quad 23 \\times 23 \\times 23 = 12,167 \\\\\n",
    "\\end{align}\n",
    "$$\n",
    "\n",
    "Por ultimo para tener todas la posiblidades generales multiplicamos el resultado de numeros por el de letras y obtenemos **10,950,300** posibles placas.\n",
    "$$\n",
    "\\begin{align}\n",
    "    Placas diferentes:& \\quad 900 \\times 12,167 = 10,950,300\n",
    "\\end{align}\n",
    "$$\n"
   ]
  },
  {
   "cell_type": "markdown",
   "metadata": {},
   "source": [
    "#### b) ¿Cuántas placas diferentes terminan en vocal?"
   ]
  },
  {
   "cell_type": "markdown",
   "metadata": {},
   "source": [
    "\n",
    "\n",
    "Para este inciso solo es posible utilizar para las placas, las siguientes vocales como ultimo digito que son **A, E y U** porque el enunciado dice que no puedes usar 4 letras y en esas 4 se uncuentran dos vocales que son **I, O**.\n",
    "- Entonces vamos a multiplicar las letras de la siguiente manera. Porque a diferencia del inciso anterior, en lugar del ultimo 23 que generaliza todas las letras ahi solo se pondran el numero de vocales que estan permitidas por el enunciado.\n",
    "$$\n",
    "\\begin{align}\n",
    "    Letras: & \\quad 23 \\times 23 \\times 3 = 1,587 \\\\\n",
    "\\end{align}\n",
    "$$\n",
    "Nos da un resultado de **1587** diferentes terminaciones en vocal.\n",
    "- Por ultimo esos **1587** se multiplicaran por los diferentes numeros, esa cantidad la podemos tomar del inciso anterior, y quedaria de la siguiente manera la multiplicacion.\n",
    "$$\n",
    "\\begin{align}\n",
    "    Placas diferentes en terminacion de vocal: & \\quad 900 \\times 1,587 = 1,428,300\n",
    "\\end{align}\n",
    "$$"
   ]
  },
  {
   "cell_type": "markdown",
   "metadata": {},
   "source": [
    "#### c) ¿Cuál es la probabilidad de que una placa, elegida al azar, sea impar?\n"
   ]
  },
  {
   "cell_type": "markdown",
   "metadata": {},
   "source": [
    "\n",
    "- Probabilidad de que la placa termine en número impar:\n",
    "\n",
    "\n",
    "- Primero se multiplico de esta manera porque 9 son los numeros que acepta el primer digito, el 10 porque son los numeros que acepta el segundo digito y 5 porque son la cantidad de numero impares que hay en ese rango de 0 a 9.\n",
    "$$\n",
    "\\begin{align}\n",
    "     & 9 \\times 10 \\times 5 = 450\n",
    "\\end{align}\n",
    "$$\n",
    "\n",
    "- Despues se multiplico de esta otra manera, 9 son los numeros que acepta el primer digito, el 10 porque son los numeros que acepta el segundo digito y el 10 porque son los numeros que acepta el tercer digito, ya que en el tercer digito deben ser todos los posbles numeros porque despues vamos a dividir para sacar la probabilidad.\n",
    "$$\n",
    "\\begin{align}\n",
    "     & 9 \\times 10 \\times 10 = 900\n",
    "\\end{align}\n",
    "$$\n",
    "\n",
    "- Por ultimo sacamos la probabilidad donde dividimos **450** que fue con numeros impares, entre **900** que fueron los numeros completos que esto representa un 100% de los posibles numeros.\n",
    "$$\n",
    "\\begin{align}\n",
    "     \\text{Probabilidad de que la placa termine en número impar} = \\frac{450}{900} = 0.5\n",
    "\\end{align}\n",
    "$$"
   ]
  },
  {
   "cell_type": "code",
   "execution_count": 5,
   "metadata": {},
   "outputs": [
    {
     "name": "stdout",
     "output_type": "stream",
     "text": [
      "a) Placas diferentes posibles: 10950300\n"
     ]
    }
   ],
   "source": [
    "pri_dig = 9 \n",
    "otros_dig = 10  \n",
    "\n",
    "numero_digitos = pri_dig * otros_dig * otros_dig\n",
    "num_letras=23\n",
    "num_posib_letras = num_letras ** 3\n",
    "\n",
    "placas_totales = numero_digitos * num_posib_letras\n",
    "\n",
    "print(\"a) Placas diferentes posibles:\", placas_totales)\n"
   ]
  },
  {
   "cell_type": "code",
   "execution_count": 6,
   "metadata": {},
   "outputs": [
    {
     "name": "stdout",
     "output_type": "stream",
     "text": [
      "b) Placas que terminan en vocal: 1428300\n"
     ]
    }
   ],
   "source": [
    "num_vocales = 3  \n",
    "pterminan_vocal = numero_digitos * (num_letras * num_letras * num_vocales)\n",
    "\n",
    "print(\"b) Placas que terminan en vocal:\", pterminan_vocal)"
   ]
  },
  {
   "cell_type": "code",
   "execution_count": 7,
   "metadata": {},
   "outputs": [
    {
     "name": "stdout",
     "output_type": "stream",
     "text": [
      "c) Probabilidad de que una placa, elegida al azar, sea impar: 0.5\n"
     ]
    }
   ],
   "source": [
    "num_digitos_impares = 5\n",
    "placas_impares = (pri_dig * otros_dig) * num_digitos_impares * num_posib_letras\n",
    "\n",
    "probabilidad_impar = placas_impares / placas_totales\n",
    "\n",
    "print(\"c) Probabilidad de que una placa, elegida al azar, sea impar:\", probabilidad_impar)"
   ]
  },
  {
   "cell_type": "markdown",
   "metadata": {},
   "source": [
    "### 12. Servicios restauranteros. Una cadena de hamburguesas anuncia que se ofrecen 512 maneras de pedir una hamburguesa. Un cliente puede elegir cualquiera de estos ingredientes: cátsup, mos- taza, mayonesa, aderezo de la casa, cebolla, pepinillos, jitomate, tocino y lechuga. ¿Crees que lo que afirma la empresa sea cierto? Justifica tu respuesta.\n"
   ]
  },
  {
   "cell_type": "markdown",
   "metadata": {},
   "source": [
    "- Se conoce que tenemos 9 ingredientes en total los cuales los vamos a representar como **\"n = 9\"**.\n",
    "- De los 9 ingredientes podemos escoger cuales quiera de esos 9 ingredientes donde lo vamos a representar como **\"r\"** , la cual puede ser de 0 a 9.\n",
    "$$\n",
    "\\begin{align}\n",
    "    _nC_r &= \\dfrac{n!}{r!(n - r)!}\\\\ \n",
    "\\end{align}\n",
    "$$\n",
    "- Para su resolucion se aplicara sumatoria de combinaciones:\n",
    "$$\n",
    "\\begin{align}\n",
    "    _\\Sigma (_9C_r)\\\\\n",
    "\\end{align}\n",
    "$$\n",
    "\n",
    "- Se realizo los calculos de las conbinaciones, donde **\"r\"** va desde **0** hasta **9**. \n",
    "$$\n",
    "\\begin{align}\n",
    "    _9C_0 &= \\dfrac{9!}{0!(9 - 0)!} = 1\\\\\n",
    "    _9C_1 &= \\dfrac{9!}{1!(9 - 1)!} = 9\\\\\n",
    "    _9C_2 &= \\dfrac{9!}{2!(9 - 2)!} = 36\\\\\n",
    "    _9C_3 &= \\dfrac{9!}{3!(9 - 3)!} = 84\\\\\n",
    "    _9C_4 &= \\dfrac{9!}{4!(9 - 4)!} = 126\\\\\n",
    "    _9C_5 &= \\dfrac{9!}{5!(9 - 5)!} = 126\\\\\n",
    "    _9C_6 &= \\dfrac{9!}{6!(9 - 6)!} = 84\\\\\n",
    "    _9C_7 &= \\dfrac{9!}{7!(9 - 7)!} = 36\\\\\n",
    "    _9C_8 &= \\dfrac{9!}{8!(9 - 8)!} = 9\\\\\n",
    "    _9C_9 &= \\dfrac{9!}{9!(9 - 9)!} = 1\\\\\n",
    "\\end{align}\n",
    "$$\n",
    "\n",
    "- Una vez teniendo todas las combinaciones hacemos la sumatoria de ellas para saber el total en general.\n",
    "$$\n",
    "\\begin{align}\n",
    "    Combinaciones &= 1 + 9 + 36 + 84 + 126 + 126 + 84 + 36 + 9 + 1 = 512\n",
    "\\end{align}\n",
    "$$\n",
    "\n",
    "\n",
    "Entonces concluimos que se pueden realizar **512** combinaciones de hamburguesas."
   ]
  },
  {
   "cell_type": "code",
   "execution_count": 2,
   "metadata": {},
   "outputs": [
    {
     "name": "stdout",
     "output_type": "stream",
     "text": [
      "Existen 512 combinaciones de hamburguesas\n"
     ]
    }
   ],
   "source": [
    "# Ejercicio 12\n",
    "\n",
    "from math import factorial\n",
    "\n",
    "def combinaciones(n, r):\n",
    "    return factorial(n) // (factorial(r) * factorial(n-r))\n",
    "\n",
    "compar = 0\n",
    "for r in range(10):\n",
    "    compar += combinaciones(9, r)\n",
    "print(f\"Existen {int(compar)} combinaciones de hamburguesas\")\n"
   ]
  }
 ],
 "metadata": {
  "kernelspec": {
   "display_name": "Python 3",
   "language": "python",
   "name": "python3"
  },
  "language_info": {
   "codemirror_mode": {
    "name": "ipython",
    "version": 3
   },
   "file_extension": ".py",
   "mimetype": "text/x-python",
   "name": "python",
   "nbconvert_exporter": "python",
   "pygments_lexer": "ipython3",
   "version": "3.11.4"
  }
 },
 "nbformat": 4,
 "nbformat_minor": 2
}
